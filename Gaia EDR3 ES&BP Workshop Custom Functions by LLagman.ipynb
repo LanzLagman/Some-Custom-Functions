{
 "cells": [
  {
   "cell_type": "code",
   "execution_count": 1,
   "id": "exclusive-economy",
   "metadata": {},
   "outputs": [
    {
     "name": "stdout",
     "output_type": "stream",
     "text": [
      "Python 3.9.1\n"
     ]
    }
   ],
   "source": [
    "!python --version"
   ]
  },
  {
   "cell_type": "code",
   "execution_count": 2,
   "id": "civilian-record",
   "metadata": {},
   "outputs": [],
   "source": [
    "import numpy as np\n",
    "import pandas as pd\n",
    "import matplotlib.pyplot as plt"
   ]
  },
  {
   "cell_type": "markdown",
   "id": "adjusted-turner",
   "metadata": {},
   "source": [
    "# Some Custom Plotter Functions for Data Visualization\n",
    "\n",
    "These functions have been made in order to contribute to the collaborative working sessions at the [Gaia Early DR3 Early Science and Best Practices Workshop](https://www.edr3workshop.com/) which was held from June 1 to June 4, 2021.\n",
    "\n",
    "Shout out to the `project-redclump` and `gc-bridge-project` team!"
   ]
  },
  {
   "cell_type": "markdown",
   "id": "relative-exception",
   "metadata": {},
   "source": [
    "### `scatter_2D`\n",
    "\n",
    "- custom function for producing scatter plots with default black and small dots\n",
    "- suggested for general spatial plots and CMDs with only a few thousand datapoints"
   ]
  },
  {
   "cell_type": "code",
   "execution_count": 3,
   "id": "official-malaysia",
   "metadata": {},
   "outputs": [],
   "source": [
    "def scatter_2D(x, y, fig=None, ax=None, c='k', s=0.1, *args, **kwargs):\n",
    "    \n",
    "    if (fig and ax) is None:\n",
    "        fig, ax = plt.subplots()\n",
    "    \n",
    "    plot = ax.scatter(x, y, c=c, s=s, *args, **kwargs)\n",
    "    \n",
    "    #axes styling\n",
    "    ax.spines['right'].set_visible(False)\n",
    "    ax.spines['top'].set_visible(False)\n",
    "    ax.tick_params(left=True, bottom=True,\n",
    "                   labelleft=True, labelbottom=True)"
   ]
  },
  {
   "cell_type": "markdown",
   "id": "valid-antenna",
   "metadata": {},
   "source": [
    "### `pdf_lineplt`\n",
    "\n",
    "- \"Probability Distribution Function Line Plot'\n",
    "- custom function for making line plots with number of bins following Rice rule: $n_\\text{b} = \\sqrt[3]{n_\\text{s}}$.\n",
    "    - $n_\\text{b}$: number of bins\n",
    "    - $n_\\text{s}$: number of samples\n",
    "- additional option for logarithmic binning\n",
    "- suggested for plotting distributions"
   ]
  },
  {
   "cell_type": "code",
   "execution_count": 4,
   "id": "varying-montana",
   "metadata": {},
   "outputs": [],
   "source": [
    "def pdf_lineplt(x, title='', bin_type='rice', density=True, fig=None, ax=None, *args, **kwargs):\n",
    "    \n",
    "    if (fig or ax) is None:\n",
    "        fig, ax = plt.subplots()\n",
    "    \n",
    "    if bin_type == 'rice':\n",
    "        y, binEdges = np.histogram(x, density=density, bins=int(2*np.cbrt(len(x))))\n",
    "    elif bin_type == 'rice_log':\n",
    "        y, binEdges = np.histogram(x, density=density, bins=np.logspace(np.log10(0.1), \n",
    "                                                                        np.log10(1.0), \n",
    "                                                                        int(2*np.cbrt(len(x)))))\n",
    "    else:\n",
    "        raise ValueError(\"Choose between 'rice' and 'rice_log'.\")\n",
    "    bincenters = 0.5*(binEdges[1:] + binEdges[:-1])\n",
    "    ax.plot(bincenters, y, '-o', *args, **kwargs)\n",
    "    \n",
    "    ax.set_title(title)\n",
    "    ax.spines['right'].set_visible(False)\n",
    "    ax.spines['top'].set_visible(False)\n",
    "    ax.tick_params(left=True, bottom=True,\n",
    "                   labelleft=True, labelbottom=True)"
   ]
  },
  {
   "cell_type": "markdown",
   "id": "responsible-average",
   "metadata": {},
   "source": [
    "### `cmd_plot`\n",
    "\n",
    "- custom function implementation of [Vlas Sokolov's](https://vlas.dev/post/gaia-dr2-hrd/) \n",
    "- plots a 2D histogram above a scatter plot, with colorbar indicating how dense the data points clump up.\n",
    "- 2D histogram describes the density of points\n",
    "- includes default axes labels"
   ]
  },
  {
   "cell_type": "code",
   "execution_count": 5,
   "id": "tight-purchase",
   "metadata": {},
   "outputs": [],
   "source": [
    "def cmd_plot(bp_rp, mg, cmap='viridis', title='CMD', fig=None, ax=None):\n",
    "    \n",
    "    #Main reference: https://vlas.dev/post/gaia-dr2-hrd/\n",
    "    import matplotlib.colors as mcolors\n",
    "    from matplotlib.colors import ListedColormap\n",
    "    from mpl_toolkits.axes_grid1 import make_axes_locatable\n",
    "    \n",
    "    if (fig or ax) is None:\n",
    "        fig, ax = plt.subplots()\n",
    "        \n",
    "    h = ax.hist2d(bp_rp, mg, bins=300, cmin=10, norm=mcolors.PowerNorm(0.5), zorder=0.5, cmap=cmap)\n",
    "    ax.scatter(bp_rp, mg, alpha=0.05, s=1, c='k', zorder=0)\n",
    "    cb = fig.colorbar(h[3], ax=ax, pad=0.02)\n",
    "    \n",
    "    ax.invert_yaxis()\n",
    "    ax.set_title(str(title))\n",
    "    ax.set_xlabel(r'Color Index $G_{BP} - G_{RP}$')\n",
    "    ax.set_ylabel(r'Absolute GAIA Magnitude $m_G$')\n",
    "    cb.set_label('Star Count')\n",
    "    \n",
    "    ax.spines['right'].set_visible(False)\n",
    "    ax.spines['top'].set_visible(False)\n",
    "    ax.tick_params(left=True, bottom=True,\n",
    "                   labelleft=True, labelbottom=True)"
   ]
  },
  {
   "cell_type": "markdown",
   "id": "angry-morgan",
   "metadata": {},
   "source": [
    "### `scatter_density2D`\n",
    "\n",
    "- generalized form of `cmd_plot`\n",
    "- useful when `scatter_2D` cannot fully describe how much points clump up, i.e. there are several thousand data points"
   ]
  },
  {
   "cell_type": "code",
   "execution_count": 6,
   "id": "published-elite",
   "metadata": {},
   "outputs": [],
   "source": [
    "def scatter_density2D(x, y, cmap='viridis', cb_label='Star Count', c='k', s=1, title='CMD', fig=None, ax=None):\n",
    "    \n",
    "    import matplotlib.colors as mcolors\n",
    "    from matplotlib.colors import ListedColormap\n",
    "    from mpl_toolkits.axes_grid1 import make_axes_locatable\n",
    "    \n",
    "    if (fig or ax) is None:\n",
    "        fig, ax = plt.subplots()\n",
    "        \n",
    "    h = ax.hist2d(x, y, bins=300, cmin=10, norm=mcolors.PowerNorm(0.5), zorder=0.5, cmap=cmap)\n",
    "    ax.scatter(x, y, alpha=0.05, s=s, c='k', zorder=0)\n",
    "    cb = fig.colorbar(h[3], ax=ax, pad=0.02)\n",
    "    cb.set_label(cb_label)\n",
    "    \n",
    "    ax.spines['right'].set_visible(False)\n",
    "    ax.spines['top'].set_visible(False)\n",
    "    ax.tick_params(left=True, bottom=True,\n",
    "                   labelleft=True, labelbottom=True)"
   ]
  },
  {
   "cell_type": "code",
   "execution_count": null,
   "id": "remarkable-application",
   "metadata": {},
   "outputs": [],
   "source": []
  }
 ],
 "metadata": {
  "kernelspec": {
   "display_name": "Python 3",
   "language": "python",
   "name": "python3"
  },
  "language_info": {
   "codemirror_mode": {
    "name": "ipython",
    "version": 3
   },
   "file_extension": ".py",
   "mimetype": "text/x-python",
   "name": "python",
   "nbconvert_exporter": "python",
   "pygments_lexer": "ipython3",
   "version": "3.9.1"
  }
 },
 "nbformat": 4,
 "nbformat_minor": 5
}
